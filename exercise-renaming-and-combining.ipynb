{
 "cells": [
  {
   "cell_type": "markdown",
   "id": "cc33c300",
   "metadata": {
    "papermill": {
     "duration": 0.009179,
     "end_time": "2022-07-09T12:49:54.093348",
     "exception": false,
     "start_time": "2022-07-09T12:49:54.084169",
     "status": "completed"
    },
    "tags": []
   },
   "source": [
    "**This notebook is an exercise in the [Pandas](https://www.kaggle.com/learn/pandas) course.  You can reference the tutorial at [this link](https://www.kaggle.com/residentmario/renaming-and-combining).**\n",
    "\n",
    "---\n"
   ]
  },
  {
   "cell_type": "markdown",
   "id": "54a75f54",
   "metadata": {
    "papermill": {
     "duration": 0.00657,
     "end_time": "2022-07-09T12:49:54.106223",
     "exception": false,
     "start_time": "2022-07-09T12:49:54.099653",
     "status": "completed"
    },
    "tags": []
   },
   "source": [
    "# Introduction\n",
    "\n",
    "Run the following cell to load your data and some utility functions."
   ]
  },
  {
   "cell_type": "code",
   "execution_count": 1,
   "id": "4c395cc7",
   "metadata": {
    "execution": {
     "iopub.execute_input": "2022-07-09T12:49:54.122780Z",
     "iopub.status.busy": "2022-07-09T12:49:54.121313Z",
     "iopub.status.idle": "2022-07-09T12:49:58.199952Z",
     "shell.execute_reply": "2022-07-09T12:49:58.198744Z"
    },
    "papermill": {
     "duration": 4.090556,
     "end_time": "2022-07-09T12:49:58.202866",
     "exception": false,
     "start_time": "2022-07-09T12:49:54.112310",
     "status": "completed"
    },
    "tags": []
   },
   "outputs": [
    {
     "name": "stdout",
     "output_type": "stream",
     "text": [
      "Setup complete.\n"
     ]
    }
   ],
   "source": [
    "import pandas as pd\n",
    "\n",
    "reviews = pd.read_csv(\"../input/wine-reviews/winemag-data-130k-v2.csv\", index_col=0)\n",
    "\n",
    "from learntools.core import binder; binder.bind(globals())\n",
    "from learntools.pandas.renaming_and_combining import *\n",
    "print(\"Setup complete.\")"
   ]
  },
  {
   "cell_type": "markdown",
   "id": "b328abe7",
   "metadata": {
    "papermill": {
     "duration": 0.005732,
     "end_time": "2022-07-09T12:49:58.214932",
     "exception": false,
     "start_time": "2022-07-09T12:49:58.209200",
     "status": "completed"
    },
    "tags": []
   },
   "source": [
    "# Exercises\n",
    "\n",
    "View the first several lines of your data by running the cell below:"
   ]
  },
  {
   "cell_type": "code",
   "execution_count": 2,
   "id": "7ce5023f",
   "metadata": {
    "execution": {
     "iopub.execute_input": "2022-07-09T12:49:58.228733Z",
     "iopub.status.busy": "2022-07-09T12:49:58.228012Z",
     "iopub.status.idle": "2022-07-09T12:49:58.253383Z",
     "shell.execute_reply": "2022-07-09T12:49:58.252087Z"
    },
    "papermill": {
     "duration": 0.035409,
     "end_time": "2022-07-09T12:49:58.256098",
     "exception": false,
     "start_time": "2022-07-09T12:49:58.220689",
     "status": "completed"
    },
    "tags": []
   },
   "outputs": [
    {
     "data": {
      "text/html": [
       "<div>\n",
       "<style scoped>\n",
       "    .dataframe tbody tr th:only-of-type {\n",
       "        vertical-align: middle;\n",
       "    }\n",
       "\n",
       "    .dataframe tbody tr th {\n",
       "        vertical-align: top;\n",
       "    }\n",
       "\n",
       "    .dataframe thead th {\n",
       "        text-align: right;\n",
       "    }\n",
       "</style>\n",
       "<table border=\"1\" class=\"dataframe\">\n",
       "  <thead>\n",
       "    <tr style=\"text-align: right;\">\n",
       "      <th></th>\n",
       "      <th>country</th>\n",
       "      <th>description</th>\n",
       "      <th>designation</th>\n",
       "      <th>points</th>\n",
       "      <th>price</th>\n",
       "      <th>province</th>\n",
       "      <th>region_1</th>\n",
       "      <th>region_2</th>\n",
       "      <th>taster_name</th>\n",
       "      <th>taster_twitter_handle</th>\n",
       "      <th>title</th>\n",
       "      <th>variety</th>\n",
       "      <th>winery</th>\n",
       "    </tr>\n",
       "  </thead>\n",
       "  <tbody>\n",
       "    <tr>\n",
       "      <th>0</th>\n",
       "      <td>Italy</td>\n",
       "      <td>Aromas include tropical fruit, broom, brimston...</td>\n",
       "      <td>Vulkà Bianco</td>\n",
       "      <td>87</td>\n",
       "      <td>NaN</td>\n",
       "      <td>Sicily &amp; Sardinia</td>\n",
       "      <td>Etna</td>\n",
       "      <td>NaN</td>\n",
       "      <td>Kerin O’Keefe</td>\n",
       "      <td>@kerinokeefe</td>\n",
       "      <td>Nicosia 2013 Vulkà Bianco  (Etna)</td>\n",
       "      <td>White Blend</td>\n",
       "      <td>Nicosia</td>\n",
       "    </tr>\n",
       "    <tr>\n",
       "      <th>1</th>\n",
       "      <td>Portugal</td>\n",
       "      <td>This is ripe and fruity, a wine that is smooth...</td>\n",
       "      <td>Avidagos</td>\n",
       "      <td>87</td>\n",
       "      <td>15.0</td>\n",
       "      <td>Douro</td>\n",
       "      <td>NaN</td>\n",
       "      <td>NaN</td>\n",
       "      <td>Roger Voss</td>\n",
       "      <td>@vossroger</td>\n",
       "      <td>Quinta dos Avidagos 2011 Avidagos Red (Douro)</td>\n",
       "      <td>Portuguese Red</td>\n",
       "      <td>Quinta dos Avidagos</td>\n",
       "    </tr>\n",
       "    <tr>\n",
       "      <th>2</th>\n",
       "      <td>US</td>\n",
       "      <td>Tart and snappy, the flavors of lime flesh and...</td>\n",
       "      <td>NaN</td>\n",
       "      <td>87</td>\n",
       "      <td>14.0</td>\n",
       "      <td>Oregon</td>\n",
       "      <td>Willamette Valley</td>\n",
       "      <td>Willamette Valley</td>\n",
       "      <td>Paul Gregutt</td>\n",
       "      <td>@paulgwine</td>\n",
       "      <td>Rainstorm 2013 Pinot Gris (Willamette Valley)</td>\n",
       "      <td>Pinot Gris</td>\n",
       "      <td>Rainstorm</td>\n",
       "    </tr>\n",
       "    <tr>\n",
       "      <th>3</th>\n",
       "      <td>US</td>\n",
       "      <td>Pineapple rind, lemon pith and orange blossom ...</td>\n",
       "      <td>Reserve Late Harvest</td>\n",
       "      <td>87</td>\n",
       "      <td>13.0</td>\n",
       "      <td>Michigan</td>\n",
       "      <td>Lake Michigan Shore</td>\n",
       "      <td>NaN</td>\n",
       "      <td>Alexander Peartree</td>\n",
       "      <td>NaN</td>\n",
       "      <td>St. Julian 2013 Reserve Late Harvest Riesling ...</td>\n",
       "      <td>Riesling</td>\n",
       "      <td>St. Julian</td>\n",
       "    </tr>\n",
       "    <tr>\n",
       "      <th>4</th>\n",
       "      <td>US</td>\n",
       "      <td>Much like the regular bottling from 2012, this...</td>\n",
       "      <td>Vintner's Reserve Wild Child Block</td>\n",
       "      <td>87</td>\n",
       "      <td>65.0</td>\n",
       "      <td>Oregon</td>\n",
       "      <td>Willamette Valley</td>\n",
       "      <td>Willamette Valley</td>\n",
       "      <td>Paul Gregutt</td>\n",
       "      <td>@paulgwine</td>\n",
       "      <td>Sweet Cheeks 2012 Vintner's Reserve Wild Child...</td>\n",
       "      <td>Pinot Noir</td>\n",
       "      <td>Sweet Cheeks</td>\n",
       "    </tr>\n",
       "  </tbody>\n",
       "</table>\n",
       "</div>"
      ],
      "text/plain": [
       "    country                                        description  \\\n",
       "0     Italy  Aromas include tropical fruit, broom, brimston...   \n",
       "1  Portugal  This is ripe and fruity, a wine that is smooth...   \n",
       "2        US  Tart and snappy, the flavors of lime flesh and...   \n",
       "3        US  Pineapple rind, lemon pith and orange blossom ...   \n",
       "4        US  Much like the regular bottling from 2012, this...   \n",
       "\n",
       "                          designation  points  price           province  \\\n",
       "0                        Vulkà Bianco      87    NaN  Sicily & Sardinia   \n",
       "1                            Avidagos      87   15.0              Douro   \n",
       "2                                 NaN      87   14.0             Oregon   \n",
       "3                Reserve Late Harvest      87   13.0           Michigan   \n",
       "4  Vintner's Reserve Wild Child Block      87   65.0             Oregon   \n",
       "\n",
       "              region_1           region_2         taster_name  \\\n",
       "0                 Etna                NaN       Kerin O’Keefe   \n",
       "1                  NaN                NaN          Roger Voss   \n",
       "2    Willamette Valley  Willamette Valley        Paul Gregutt   \n",
       "3  Lake Michigan Shore                NaN  Alexander Peartree   \n",
       "4    Willamette Valley  Willamette Valley        Paul Gregutt   \n",
       "\n",
       "  taster_twitter_handle                                              title  \\\n",
       "0          @kerinokeefe                  Nicosia 2013 Vulkà Bianco  (Etna)   \n",
       "1            @vossroger      Quinta dos Avidagos 2011 Avidagos Red (Douro)   \n",
       "2           @paulgwine       Rainstorm 2013 Pinot Gris (Willamette Valley)   \n",
       "3                   NaN  St. Julian 2013 Reserve Late Harvest Riesling ...   \n",
       "4           @paulgwine   Sweet Cheeks 2012 Vintner's Reserve Wild Child...   \n",
       "\n",
       "          variety               winery  \n",
       "0     White Blend              Nicosia  \n",
       "1  Portuguese Red  Quinta dos Avidagos  \n",
       "2      Pinot Gris            Rainstorm  \n",
       "3        Riesling           St. Julian  \n",
       "4      Pinot Noir         Sweet Cheeks  "
      ]
     },
     "execution_count": 2,
     "metadata": {},
     "output_type": "execute_result"
    }
   ],
   "source": [
    "reviews.head()"
   ]
  },
  {
   "cell_type": "markdown",
   "id": "7893d9b6",
   "metadata": {
    "papermill": {
     "duration": 0.006087,
     "end_time": "2022-07-09T12:49:58.268812",
     "exception": false,
     "start_time": "2022-07-09T12:49:58.262725",
     "status": "completed"
    },
    "tags": []
   },
   "source": [
    "## 1.\n",
    "`region_1` and `region_2` are pretty uninformative names for locale columns in the dataset. Create a copy of `reviews` with these columns renamed to `region` and `locale`, respectively."
   ]
  },
  {
   "cell_type": "code",
   "execution_count": 3,
   "id": "c1668bda",
   "metadata": {
    "execution": {
     "iopub.execute_input": "2022-07-09T12:49:58.283897Z",
     "iopub.status.busy": "2022-07-09T12:49:58.283166Z",
     "iopub.status.idle": "2022-07-09T12:49:58.316000Z",
     "shell.execute_reply": "2022-07-09T12:49:58.314802Z"
    },
    "papermill": {
     "duration": 0.043184,
     "end_time": "2022-07-09T12:49:58.318320",
     "exception": false,
     "start_time": "2022-07-09T12:49:58.275136",
     "status": "completed"
    },
    "tags": []
   },
   "outputs": [
    {
     "data": {
      "application/javascript": [
       "parent.postMessage({\"jupyterEvent\": \"custom.exercise_interaction\", \"data\": {\"outcomeType\": 1, \"valueTowardsCompletion\": 0.25, \"interactionType\": 1, \"questionType\": 1, \"questionId\": \"1_RenameCols\", \"learnToolsVersion\": \"0.3.4\", \"failureMessage\": \"\", \"exceptionClass\": \"\", \"trace\": \"\"}}, \"*\")"
      ],
      "text/plain": [
       "<IPython.core.display.Javascript object>"
      ]
     },
     "metadata": {},
     "output_type": "display_data"
    },
    {
     "data": {
      "text/markdown": [
       "<span style=\"color:#33cc33\">Correct</span>"
      ],
      "text/plain": [
       "Correct"
      ]
     },
     "metadata": {},
     "output_type": "display_data"
    }
   ],
   "source": [
    "# Your code here\n",
    "renamed = reviews.rename(columns={'region_1': 'region', 'region_2': 'locale'})\n",
    "\n",
    "\n",
    "# Check your answer\n",
    "q1.check()"
   ]
  },
  {
   "cell_type": "code",
   "execution_count": 4,
   "id": "c7f1e6e6",
   "metadata": {
    "execution": {
     "iopub.execute_input": "2022-07-09T12:49:58.333236Z",
     "iopub.status.busy": "2022-07-09T12:49:58.332877Z",
     "iopub.status.idle": "2022-07-09T12:49:58.337309Z",
     "shell.execute_reply": "2022-07-09T12:49:58.336176Z"
    },
    "papermill": {
     "duration": 0.014461,
     "end_time": "2022-07-09T12:49:58.339373",
     "exception": false,
     "start_time": "2022-07-09T12:49:58.324912",
     "status": "completed"
    },
    "tags": []
   },
   "outputs": [],
   "source": [
    "#q1.hint()\n",
    "#q1.solution()"
   ]
  },
  {
   "cell_type": "markdown",
   "id": "11e39453",
   "metadata": {
    "papermill": {
     "duration": 0.006461,
     "end_time": "2022-07-09T12:49:58.352565",
     "exception": false,
     "start_time": "2022-07-09T12:49:58.346104",
     "status": "completed"
    },
    "tags": []
   },
   "source": [
    "## 2.\n",
    "Set the index name in the dataset to `wines`."
   ]
  },
  {
   "cell_type": "code",
   "execution_count": 5,
   "id": "d04b2237",
   "metadata": {
    "execution": {
     "iopub.execute_input": "2022-07-09T12:49:58.367815Z",
     "iopub.status.busy": "2022-07-09T12:49:58.367379Z",
     "iopub.status.idle": "2022-07-09T12:49:58.400754Z",
     "shell.execute_reply": "2022-07-09T12:49:58.399725Z"
    },
    "papermill": {
     "duration": 0.043887,
     "end_time": "2022-07-09T12:49:58.403084",
     "exception": false,
     "start_time": "2022-07-09T12:49:58.359197",
     "status": "completed"
    },
    "tags": []
   },
   "outputs": [
    {
     "data": {
      "application/javascript": [
       "parent.postMessage({\"jupyterEvent\": \"custom.exercise_interaction\", \"data\": {\"outcomeType\": 1, \"valueTowardsCompletion\": 0.25, \"interactionType\": 1, \"questionType\": 1, \"questionId\": \"2_RenameIndex\", \"learnToolsVersion\": \"0.3.4\", \"failureMessage\": \"\", \"exceptionClass\": \"\", \"trace\": \"\"}}, \"*\")"
      ],
      "text/plain": [
       "<IPython.core.display.Javascript object>"
      ]
     },
     "metadata": {},
     "output_type": "display_data"
    },
    {
     "data": {
      "text/markdown": [
       "<span style=\"color:#33cc33\">Correct</span>"
      ],
      "text/plain": [
       "Correct"
      ]
     },
     "metadata": {},
     "output_type": "display_data"
    }
   ],
   "source": [
    "reindexed = reviews.rename_axis(\"wines\", axis='rows')\n",
    "\n",
    "\n",
    "# Check your answer\n",
    "q2.check()"
   ]
  },
  {
   "cell_type": "code",
   "execution_count": 6,
   "id": "8a0d01ce",
   "metadata": {
    "execution": {
     "iopub.execute_input": "2022-07-09T12:49:58.418572Z",
     "iopub.status.busy": "2022-07-09T12:49:58.418168Z",
     "iopub.status.idle": "2022-07-09T12:49:58.422709Z",
     "shell.execute_reply": "2022-07-09T12:49:58.421686Z"
    },
    "papermill": {
     "duration": 0.014909,
     "end_time": "2022-07-09T12:49:58.424901",
     "exception": false,
     "start_time": "2022-07-09T12:49:58.409992",
     "status": "completed"
    },
    "tags": []
   },
   "outputs": [],
   "source": [
    "#q2.hint()\n",
    "#q2.solution()"
   ]
  },
  {
   "cell_type": "markdown",
   "id": "4ad1be67",
   "metadata": {
    "papermill": {
     "duration": 0.006469,
     "end_time": "2022-07-09T12:49:58.438408",
     "exception": false,
     "start_time": "2022-07-09T12:49:58.431939",
     "status": "completed"
    },
    "tags": []
   },
   "source": [
    "## 3.\n",
    "The [Things on Reddit](https://www.kaggle.com/residentmario/things-on-reddit/data) dataset includes product links from a selection of top-ranked forums (\"subreddits\") on reddit.com. Run the cell below to load a dataframe of products mentioned on the */r/gaming* subreddit and another dataframe for products mentioned on the *r//movies* subreddit."
   ]
  },
  {
   "cell_type": "code",
   "execution_count": 7,
   "id": "298ab6ad",
   "metadata": {
    "execution": {
     "iopub.execute_input": "2022-07-09T12:49:58.453573Z",
     "iopub.status.busy": "2022-07-09T12:49:58.453146Z",
     "iopub.status.idle": "2022-07-09T12:49:58.468103Z",
     "shell.execute_reply": "2022-07-09T12:49:58.466929Z"
    },
    "papermill": {
     "duration": 0.025753,
     "end_time": "2022-07-09T12:49:58.470866",
     "exception": false,
     "start_time": "2022-07-09T12:49:58.445113",
     "status": "completed"
    },
    "tags": []
   },
   "outputs": [],
   "source": [
    "gaming_products = pd.read_csv(\"../input/things-on-reddit/top-things/top-things/reddits/g/gaming.csv\")\n",
    "gaming_products['subreddit'] = \"r/gaming\"\n",
    "movie_products = pd.read_csv(\"../input/things-on-reddit/top-things/top-things/reddits/m/movies.csv\")\n",
    "movie_products['subreddit'] = \"r/movies\""
   ]
  },
  {
   "cell_type": "markdown",
   "id": "138c83a9",
   "metadata": {
    "papermill": {
     "duration": 0.006695,
     "end_time": "2022-07-09T12:49:58.484658",
     "exception": false,
     "start_time": "2022-07-09T12:49:58.477963",
     "status": "completed"
    },
    "tags": []
   },
   "source": [
    "Create a `DataFrame` of products mentioned on *either* subreddit."
   ]
  },
  {
   "cell_type": "code",
   "execution_count": 8,
   "id": "aa218a5e",
   "metadata": {
    "execution": {
     "iopub.execute_input": "2022-07-09T12:49:58.499959Z",
     "iopub.status.busy": "2022-07-09T12:49:58.499540Z",
     "iopub.status.idle": "2022-07-09T12:49:58.514923Z",
     "shell.execute_reply": "2022-07-09T12:49:58.513803Z"
    },
    "papermill": {
     "duration": 0.025595,
     "end_time": "2022-07-09T12:49:58.517091",
     "exception": false,
     "start_time": "2022-07-09T12:49:58.491496",
     "status": "completed"
    },
    "tags": []
   },
   "outputs": [
    {
     "data": {
      "application/javascript": [
       "parent.postMessage({\"jupyterEvent\": \"custom.exercise_interaction\", \"data\": {\"outcomeType\": 1, \"valueTowardsCompletion\": 0.25, \"interactionType\": 1, \"questionType\": 2, \"questionId\": \"3_ConcatReddit\", \"learnToolsVersion\": \"0.3.4\", \"failureMessage\": \"\", \"exceptionClass\": \"\", \"trace\": \"\"}}, \"*\")"
      ],
      "text/plain": [
       "<IPython.core.display.Javascript object>"
      ]
     },
     "metadata": {},
     "output_type": "display_data"
    },
    {
     "data": {
      "text/markdown": [
       "<span style=\"color:#33cc33\">Correct</span>"
      ],
      "text/plain": [
       "Correct"
      ]
     },
     "metadata": {},
     "output_type": "display_data"
    }
   ],
   "source": [
    "combined_products = pd.concat([gaming_products, movie_products])\n",
    "\n",
    "# Check your answer\n",
    "q3.check()"
   ]
  },
  {
   "cell_type": "code",
   "execution_count": 9,
   "id": "180c60ca",
   "metadata": {
    "execution": {
     "iopub.execute_input": "2022-07-09T12:49:58.532862Z",
     "iopub.status.busy": "2022-07-09T12:49:58.532453Z",
     "iopub.status.idle": "2022-07-09T12:49:58.537086Z",
     "shell.execute_reply": "2022-07-09T12:49:58.535898Z"
    },
    "papermill": {
     "duration": 0.014986,
     "end_time": "2022-07-09T12:49:58.539167",
     "exception": false,
     "start_time": "2022-07-09T12:49:58.524181",
     "status": "completed"
    },
    "tags": []
   },
   "outputs": [],
   "source": [
    "#q3.hint()\n",
    "#q3.solution()"
   ]
  },
  {
   "cell_type": "markdown",
   "id": "956fbe75",
   "metadata": {
    "papermill": {
     "duration": 0.006724,
     "end_time": "2022-07-09T12:49:58.553493",
     "exception": false,
     "start_time": "2022-07-09T12:49:58.546769",
     "status": "completed"
    },
    "tags": []
   },
   "source": [
    "## 4.\n",
    "The [Powerlifting Database](https://www.kaggle.com/open-powerlifting/powerlifting-database) dataset on Kaggle includes one CSV table for powerlifting meets and a separate one for powerlifting competitors. Run the cell below to load these datasets into dataframes:"
   ]
  },
  {
   "cell_type": "code",
   "execution_count": 10,
   "id": "8ddde302",
   "metadata": {
    "execution": {
     "iopub.execute_input": "2022-07-09T12:49:58.569230Z",
     "iopub.status.busy": "2022-07-09T12:49:58.568816Z",
     "iopub.status.idle": "2022-07-09T12:49:59.397923Z",
     "shell.execute_reply": "2022-07-09T12:49:59.396482Z"
    },
    "papermill": {
     "duration": 0.840079,
     "end_time": "2022-07-09T12:49:59.400575",
     "exception": false,
     "start_time": "2022-07-09T12:49:58.560496",
     "status": "completed"
    },
    "tags": []
   },
   "outputs": [],
   "source": [
    "powerlifting_meets = pd.read_csv(\"../input/powerlifting-database/meets.csv\")\n",
    "powerlifting_competitors = pd.read_csv(\"../input/powerlifting-database/openpowerlifting.csv\")"
   ]
  },
  {
   "cell_type": "markdown",
   "id": "2a445b62",
   "metadata": {
    "papermill": {
     "duration": 0.006809,
     "end_time": "2022-07-09T12:49:59.414731",
     "exception": false,
     "start_time": "2022-07-09T12:49:59.407922",
     "status": "completed"
    },
    "tags": []
   },
   "source": [
    "Both tables include references to a `MeetID`, a unique key for each meet (competition) included in the database. Using this, generate a dataset combining the two tables into one."
   ]
  },
  {
   "cell_type": "code",
   "execution_count": 11,
   "id": "93aac79e",
   "metadata": {
    "execution": {
     "iopub.execute_input": "2022-07-09T12:49:59.430485Z",
     "iopub.status.busy": "2022-07-09T12:49:59.429747Z",
     "iopub.status.idle": "2022-07-09T12:50:00.505661Z",
     "shell.execute_reply": "2022-07-09T12:50:00.504489Z"
    },
    "papermill": {
     "duration": 1.08631,
     "end_time": "2022-07-09T12:50:00.507972",
     "exception": false,
     "start_time": "2022-07-09T12:49:59.421662",
     "status": "completed"
    },
    "tags": []
   },
   "outputs": [
    {
     "data": {
      "application/javascript": [
       "parent.postMessage({\"jupyterEvent\": \"custom.exercise_interaction\", \"data\": {\"outcomeType\": 1, \"valueTowardsCompletion\": 0.25, \"interactionType\": 1, \"questionType\": 2, \"questionId\": \"4_JoinLifting\", \"learnToolsVersion\": \"0.3.4\", \"failureMessage\": \"\", \"exceptionClass\": \"\", \"trace\": \"\"}}, \"*\")"
      ],
      "text/plain": [
       "<IPython.core.display.Javascript object>"
      ]
     },
     "metadata": {},
     "output_type": "display_data"
    },
    {
     "data": {
      "text/markdown": [
       "<span style=\"color:#33cc33\">Correct</span>"
      ],
      "text/plain": [
       "Correct"
      ]
     },
     "metadata": {},
     "output_type": "display_data"
    }
   ],
   "source": [
    "left = powerlifting_meets.set_index(['MeetID'])\n",
    "right = powerlifting_competitors.set_index(['MeetID'])\n",
    "\n",
    "#left.join(right, lsuffix='MeetID', rsuffix='MeetID')\n",
    "powerlifting_combined = left.join(right, lsuffix='MeetID', rsuffix='MeetID')\n",
    "\n",
    "\n",
    "# Check your answer\n",
    "q4.check()"
   ]
  },
  {
   "cell_type": "code",
   "execution_count": 12,
   "id": "33f425db",
   "metadata": {
    "execution": {
     "iopub.execute_input": "2022-07-09T12:50:00.524789Z",
     "iopub.status.busy": "2022-07-09T12:50:00.524401Z",
     "iopub.status.idle": "2022-07-09T12:50:00.529122Z",
     "shell.execute_reply": "2022-07-09T12:50:00.528129Z"
    },
    "papermill": {
     "duration": 0.015827,
     "end_time": "2022-07-09T12:50:00.531410",
     "exception": false,
     "start_time": "2022-07-09T12:50:00.515583",
     "status": "completed"
    },
    "tags": []
   },
   "outputs": [],
   "source": [
    "#q4.hint()\n",
    "#q4.solution()"
   ]
  },
  {
   "cell_type": "markdown",
   "id": "27b26c28",
   "metadata": {
    "papermill": {
     "duration": 0.007128,
     "end_time": "2022-07-09T12:50:00.546259",
     "exception": false,
     "start_time": "2022-07-09T12:50:00.539131",
     "status": "completed"
    },
    "tags": []
   },
   "source": [
    "# Congratulations!\n",
    "\n",
    "You've finished the Pandas micro-course.  Many data scientists feel efficiency with Pandas is the most useful and practical skill they have, because it allows you to progress quickly in any project you have.\n",
    "\n",
    "If you'd like to apply your new skills to examining geospatial data, you're encouraged to check out our **[Geospatial Analysis](https://www.kaggle.com/learn/geospatial-analysis)** micro-course.\n",
    "\n",
    "You can also take advantage of your Pandas skills by entering a **[Kaggle Competition](https://www.kaggle.com/competitions)** or by answering a question you find interesting using **[Kaggle Datasets](https://www.kaggle.com/datasets)**."
   ]
  },
  {
   "cell_type": "markdown",
   "id": "9b3d0c2d",
   "metadata": {
    "papermill": {
     "duration": 0.007165,
     "end_time": "2022-07-09T12:50:00.560925",
     "exception": false,
     "start_time": "2022-07-09T12:50:00.553760",
     "status": "completed"
    },
    "tags": []
   },
   "source": [
    "---\n",
    "\n",
    "\n",
    "\n",
    "\n",
    "*Have questions or comments? Visit the [course discussion forum](https://www.kaggle.com/learn/pandas/discussion) to chat with other learners.*"
   ]
  }
 ],
 "metadata": {
  "kernelspec": {
   "display_name": "Python 3",
   "language": "python",
   "name": "python3"
  },
  "language_info": {
   "codemirror_mode": {
    "name": "ipython",
    "version": 3
   },
   "file_extension": ".py",
   "mimetype": "text/x-python",
   "name": "python",
   "nbconvert_exporter": "python",
   "pygments_lexer": "ipython3",
   "version": "3.7.12"
  },
  "papermill": {
   "default_parameters": {},
   "duration": 16.599612,
   "end_time": "2022-07-09T12:50:01.290445",
   "environment_variables": {},
   "exception": null,
   "input_path": "__notebook__.ipynb",
   "output_path": "__notebook__.ipynb",
   "parameters": {},
   "start_time": "2022-07-09T12:49:44.690833",
   "version": "2.3.4"
  }
 },
 "nbformat": 4,
 "nbformat_minor": 5
}
