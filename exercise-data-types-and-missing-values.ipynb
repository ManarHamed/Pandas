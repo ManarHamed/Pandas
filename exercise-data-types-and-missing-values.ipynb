{
 "cells": [
  {
   "cell_type": "markdown",
   "id": "b06e5291",
   "metadata": {
    "papermill": {
     "duration": 0.006072,
     "end_time": "2022-07-09T12:49:44.021775",
     "exception": false,
     "start_time": "2022-07-09T12:49:44.015703",
     "status": "completed"
    },
    "tags": []
   },
   "source": [
    "**This notebook is an exercise in the [Pandas](https://www.kaggle.com/learn/pandas) course.  You can reference the tutorial at [this link](https://www.kaggle.com/residentmario/data-types-and-missing-values).**\n",
    "\n",
    "---\n"
   ]
  },
  {
   "cell_type": "markdown",
   "id": "b0fd75f7",
   "metadata": {
    "papermill": {
     "duration": 0.004731,
     "end_time": "2022-07-09T12:49:44.031850",
     "exception": false,
     "start_time": "2022-07-09T12:49:44.027119",
     "status": "completed"
    },
    "tags": []
   },
   "source": [
    "# Introduction\n",
    "\n",
    "Run the following cell to load your data and some utility functions."
   ]
  },
  {
   "cell_type": "code",
   "execution_count": 1,
   "id": "ff9e6c4a",
   "metadata": {
    "execution": {
     "iopub.execute_input": "2022-07-09T12:49:44.044295Z",
     "iopub.status.busy": "2022-07-09T12:49:44.043489Z",
     "iopub.status.idle": "2022-07-09T12:49:47.412792Z",
     "shell.execute_reply": "2022-07-09T12:49:47.411800Z"
    },
    "papermill": {
     "duration": 3.380444,
     "end_time": "2022-07-09T12:49:47.417086",
     "exception": false,
     "start_time": "2022-07-09T12:49:44.036642",
     "status": "completed"
    },
    "tags": []
   },
   "outputs": [
    {
     "name": "stdout",
     "output_type": "stream",
     "text": [
      "Setup complete.\n"
     ]
    }
   ],
   "source": [
    "import pandas as pd\n",
    "\n",
    "reviews = pd.read_csv(\"../input/wine-reviews/winemag-data-130k-v2.csv\", index_col=0)\n",
    "\n",
    "from learntools.core import binder; binder.bind(globals())\n",
    "from learntools.pandas.data_types_and_missing_data import *\n",
    "print(\"Setup complete.\")"
   ]
  },
  {
   "cell_type": "markdown",
   "id": "e24f9d3c",
   "metadata": {
    "papermill": {
     "duration": 0.004777,
     "end_time": "2022-07-09T12:49:47.428030",
     "exception": false,
     "start_time": "2022-07-09T12:49:47.423253",
     "status": "completed"
    },
    "tags": []
   },
   "source": [
    "# Exercises"
   ]
  },
  {
   "cell_type": "markdown",
   "id": "1a2a952e",
   "metadata": {
    "papermill": {
     "duration": 0.004738,
     "end_time": "2022-07-09T12:49:47.437739",
     "exception": false,
     "start_time": "2022-07-09T12:49:47.433001",
     "status": "completed"
    },
    "tags": []
   },
   "source": [
    "## 1. \n",
    "What is the data type of the `points` column in the dataset?"
   ]
  },
  {
   "cell_type": "code",
   "execution_count": 2,
   "id": "31b46cf2",
   "metadata": {
    "execution": {
     "iopub.execute_input": "2022-07-09T12:49:47.450030Z",
     "iopub.status.busy": "2022-07-09T12:49:47.449277Z",
     "iopub.status.idle": "2022-07-09T12:49:47.461009Z",
     "shell.execute_reply": "2022-07-09T12:49:47.459938Z"
    },
    "papermill": {
     "duration": 0.020574,
     "end_time": "2022-07-09T12:49:47.463202",
     "exception": false,
     "start_time": "2022-07-09T12:49:47.442628",
     "status": "completed"
    },
    "tags": []
   },
   "outputs": [
    {
     "data": {
      "application/javascript": [
       "parent.postMessage({\"jupyterEvent\": \"custom.exercise_interaction\", \"data\": {\"outcomeType\": 1, \"valueTowardsCompletion\": 0.25, \"interactionType\": 1, \"questionType\": 1, \"questionId\": \"1_PointsDtype\", \"learnToolsVersion\": \"0.3.4\", \"failureMessage\": \"\", \"exceptionClass\": \"\", \"trace\": \"\"}}, \"*\")"
      ],
      "text/plain": [
       "<IPython.core.display.Javascript object>"
      ]
     },
     "metadata": {},
     "output_type": "display_data"
    },
    {
     "data": {
      "text/markdown": [
       "<span style=\"color:#33cc33\">Correct</span>"
      ],
      "text/plain": [
       "Correct"
      ]
     },
     "metadata": {},
     "output_type": "display_data"
    }
   ],
   "source": [
    "# Your code here\n",
    "dtype = reviews.points.dtype\n",
    "\n",
    "# Check your answer\n",
    "q1.check()"
   ]
  },
  {
   "cell_type": "code",
   "execution_count": 3,
   "id": "9b340fc1",
   "metadata": {
    "execution": {
     "iopub.execute_input": "2022-07-09T12:49:47.475751Z",
     "iopub.status.busy": "2022-07-09T12:49:47.475305Z",
     "iopub.status.idle": "2022-07-09T12:49:47.479924Z",
     "shell.execute_reply": "2022-07-09T12:49:47.478848Z"
    },
    "papermill": {
     "duration": 0.013539,
     "end_time": "2022-07-09T12:49:47.482070",
     "exception": false,
     "start_time": "2022-07-09T12:49:47.468531",
     "status": "completed"
    },
    "tags": []
   },
   "outputs": [],
   "source": [
    "#q1.hint()\n",
    "#q1.solution()"
   ]
  },
  {
   "cell_type": "markdown",
   "id": "4722015c",
   "metadata": {
    "papermill": {
     "duration": 0.004946,
     "end_time": "2022-07-09T12:49:47.492320",
     "exception": false,
     "start_time": "2022-07-09T12:49:47.487374",
     "status": "completed"
    },
    "tags": []
   },
   "source": [
    "## 2. \n",
    "Create a Series from entries in the `points` column, but convert the entries to strings. Hint: strings are `str` in native Python."
   ]
  },
  {
   "cell_type": "code",
   "execution_count": 4,
   "id": "39e3492d",
   "metadata": {
    "execution": {
     "iopub.execute_input": "2022-07-09T12:49:47.504907Z",
     "iopub.status.busy": "2022-07-09T12:49:47.504384Z",
     "iopub.status.idle": "2022-07-09T12:49:47.644720Z",
     "shell.execute_reply": "2022-07-09T12:49:47.643627Z"
    },
    "papermill": {
     "duration": 0.149501,
     "end_time": "2022-07-09T12:49:47.646857",
     "exception": false,
     "start_time": "2022-07-09T12:49:47.497356",
     "status": "completed"
    },
    "tags": []
   },
   "outputs": [
    {
     "data": {
      "application/javascript": [
       "parent.postMessage({\"jupyterEvent\": \"custom.exercise_interaction\", \"data\": {\"outcomeType\": 1, \"valueTowardsCompletion\": 0.25, \"interactionType\": 1, \"questionType\": 1, \"questionId\": \"2_StrPoints\", \"learnToolsVersion\": \"0.3.4\", \"failureMessage\": \"\", \"exceptionClass\": \"\", \"trace\": \"\"}}, \"*\")"
      ],
      "text/plain": [
       "<IPython.core.display.Javascript object>"
      ]
     },
     "metadata": {},
     "output_type": "display_data"
    },
    {
     "data": {
      "text/markdown": [
       "<span style=\"color:#33cc33\">Correct</span>"
      ],
      "text/plain": [
       "Correct"
      ]
     },
     "metadata": {},
     "output_type": "display_data"
    }
   ],
   "source": [
    "point_strings = reviews.points.astype('str')\n",
    "\n",
    "\n",
    "# Check your answer\n",
    "q2.check()"
   ]
  },
  {
   "cell_type": "code",
   "execution_count": 5,
   "id": "3c2526c0",
   "metadata": {
    "execution": {
     "iopub.execute_input": "2022-07-09T12:49:47.660102Z",
     "iopub.status.busy": "2022-07-09T12:49:47.659627Z",
     "iopub.status.idle": "2022-07-09T12:49:47.664681Z",
     "shell.execute_reply": "2022-07-09T12:49:47.663352Z"
    },
    "papermill": {
     "duration": 0.014542,
     "end_time": "2022-07-09T12:49:47.667015",
     "exception": false,
     "start_time": "2022-07-09T12:49:47.652473",
     "status": "completed"
    },
    "tags": []
   },
   "outputs": [],
   "source": [
    "#q2.hint()\n",
    "#q2.solution()"
   ]
  },
  {
   "cell_type": "markdown",
   "id": "6946565a",
   "metadata": {
    "papermill": {
     "duration": 0.005226,
     "end_time": "2022-07-09T12:49:47.677892",
     "exception": false,
     "start_time": "2022-07-09T12:49:47.672666",
     "status": "completed"
    },
    "tags": []
   },
   "source": [
    "## 3.\n",
    "Sometimes the price column is null. How many reviews in the dataset are missing a price?"
   ]
  },
  {
   "cell_type": "code",
   "execution_count": 6,
   "id": "257075f0",
   "metadata": {
    "execution": {
     "iopub.execute_input": "2022-07-09T12:49:47.691228Z",
     "iopub.status.busy": "2022-07-09T12:49:47.690777Z",
     "iopub.status.idle": "2022-07-09T12:49:47.709367Z",
     "shell.execute_reply": "2022-07-09T12:49:47.708090Z"
    },
    "papermill": {
     "duration": 0.028153,
     "end_time": "2022-07-09T12:49:47.711764",
     "exception": false,
     "start_time": "2022-07-09T12:49:47.683611",
     "status": "completed"
    },
    "tags": []
   },
   "outputs": [
    {
     "data": {
      "application/javascript": [
       "parent.postMessage({\"jupyterEvent\": \"custom.exercise_interaction\", \"data\": {\"outcomeType\": 1, \"valueTowardsCompletion\": 0.25, \"interactionType\": 1, \"questionType\": 1, \"questionId\": \"3_CountMissingPrices\", \"learnToolsVersion\": \"0.3.4\", \"failureMessage\": \"\", \"exceptionClass\": \"\", \"trace\": \"\"}}, \"*\")"
      ],
      "text/plain": [
       "<IPython.core.display.Javascript object>"
      ]
     },
     "metadata": {},
     "output_type": "display_data"
    },
    {
     "data": {
      "text/markdown": [
       "<span style=\"color:#33cc33\">Correct</span>"
      ],
      "text/plain": [
       "Correct"
      ]
     },
     "metadata": {},
     "output_type": "display_data"
    }
   ],
   "source": [
    "missing_price_reviews = reviews[reviews.price.isnull()]\n",
    "n_missing_prices = len(missing_price_reviews)\n",
    "\n",
    "\n",
    "# Check your answer\n",
    "q3.check()"
   ]
  },
  {
   "cell_type": "code",
   "execution_count": 7,
   "id": "4e8b652a",
   "metadata": {
    "execution": {
     "iopub.execute_input": "2022-07-09T12:49:47.726186Z",
     "iopub.status.busy": "2022-07-09T12:49:47.725746Z",
     "iopub.status.idle": "2022-07-09T12:49:47.739237Z",
     "shell.execute_reply": "2022-07-09T12:49:47.738102Z"
    },
    "papermill": {
     "duration": 0.023727,
     "end_time": "2022-07-09T12:49:47.741429",
     "exception": false,
     "start_time": "2022-07-09T12:49:47.717702",
     "status": "completed"
    },
    "tags": []
   },
   "outputs": [
    {
     "data": {
      "application/javascript": [
       "parent.postMessage({\"jupyterEvent\": \"custom.exercise_interaction\", \"data\": {\"interactionType\": 2, \"questionType\": 1, \"questionId\": \"3_CountMissingPrices\", \"learnToolsVersion\": \"0.3.4\", \"valueTowardsCompletion\": 0.0, \"failureMessage\": \"\", \"exceptionClass\": \"\", \"trace\": \"\", \"outcomeType\": 4}}, \"*\")"
      ],
      "text/plain": [
       "<IPython.core.display.Javascript object>"
      ]
     },
     "metadata": {},
     "output_type": "display_data"
    },
    {
     "data": {
      "text/markdown": [
       "<span style=\"color:#3366cc\">Hint:</span> Use `pd.isnull()`."
      ],
      "text/plain": [
       "Hint: Use `pd.isnull()`."
      ]
     },
     "metadata": {},
     "output_type": "display_data"
    },
    {
     "data": {
      "application/javascript": [
       "parent.postMessage({\"jupyterEvent\": \"custom.exercise_interaction\", \"data\": {\"interactionType\": 3, \"questionType\": 1, \"questionId\": \"3_CountMissingPrices\", \"learnToolsVersion\": \"0.3.4\", \"valueTowardsCompletion\": 0.0, \"failureMessage\": \"\", \"exceptionClass\": \"\", \"trace\": \"\", \"outcomeType\": 4}}, \"*\")"
      ],
      "text/plain": [
       "<IPython.core.display.Javascript object>"
      ]
     },
     "metadata": {},
     "output_type": "display_data"
    },
    {
     "data": {
      "text/markdown": [
       "<span style=\"color:#33cc99\">Solution:</span> \n",
       "```python\n",
       "missing_price_reviews = reviews[reviews.price.isnull()]\n",
       "n_missing_prices = len(missing_price_reviews)\n",
       "# Cute alternative solution: if we sum a boolean series, True is treated as 1 and False as 0\n",
       "n_missing_prices = reviews.price.isnull().sum()\n",
       "# or equivalently:\n",
       "n_missing_prices = pd.isnull(reviews.price).sum()\n",
       "\n",
       "```"
      ],
      "text/plain": [
       "Solution: \n",
       "```python\n",
       "missing_price_reviews = reviews[reviews.price.isnull()]\n",
       "n_missing_prices = len(missing_price_reviews)\n",
       "# Cute alternative solution: if we sum a boolean series, True is treated as 1 and False as 0\n",
       "n_missing_prices = reviews.price.isnull().sum()\n",
       "# or equivalently:\n",
       "n_missing_prices = pd.isnull(reviews.price).sum()\n",
       "\n",
       "```"
      ]
     },
     "metadata": {},
     "output_type": "display_data"
    }
   ],
   "source": [
    "q3.hint()\n",
    "q3.solution()"
   ]
  },
  {
   "cell_type": "markdown",
   "id": "90cfe69c",
   "metadata": {
    "papermill": {
     "duration": 0.006156,
     "end_time": "2022-07-09T12:49:47.754046",
     "exception": false,
     "start_time": "2022-07-09T12:49:47.747890",
     "status": "completed"
    },
    "tags": []
   },
   "source": [
    "## 4.\n",
    "What are the most common wine-producing regions? Create a Series counting the number of times each value occurs in the `region_1` field. This field is often missing data, so replace missing values with `Unknown`. Sort in descending order.  Your output should look something like this:\n",
    "\n",
    "```\n",
    "Unknown                    21247\n",
    "Napa Valley                 4480\n",
    "                           ...  \n",
    "Bardolino Superiore            1\n",
    "Primitivo del Tarantino        1\n",
    "Name: region_1, Length: 1230, dtype: int64\n",
    "```"
   ]
  },
  {
   "cell_type": "code",
   "execution_count": 8,
   "id": "a5904193",
   "metadata": {
    "execution": {
     "iopub.execute_input": "2022-07-09T12:49:47.769417Z",
     "iopub.status.busy": "2022-07-09T12:49:47.768934Z",
     "iopub.status.idle": "2022-07-09T12:49:47.850722Z",
     "shell.execute_reply": "2022-07-09T12:49:47.849585Z"
    },
    "papermill": {
     "duration": 0.093098,
     "end_time": "2022-07-09T12:49:47.853705",
     "exception": false,
     "start_time": "2022-07-09T12:49:47.760607",
     "status": "completed"
    },
    "tags": []
   },
   "outputs": [
    {
     "data": {
      "application/javascript": [
       "parent.postMessage({\"jupyterEvent\": \"custom.exercise_interaction\", \"data\": {\"outcomeType\": 1, \"valueTowardsCompletion\": 0.25, \"interactionType\": 1, \"questionType\": 2, \"questionId\": \"4_ReviewsPerRegion\", \"learnToolsVersion\": \"0.3.4\", \"failureMessage\": \"\", \"exceptionClass\": \"\", \"trace\": \"\"}}, \"*\")"
      ],
      "text/plain": [
       "<IPython.core.display.Javascript object>"
      ]
     },
     "metadata": {},
     "output_type": "display_data"
    },
    {
     "data": {
      "text/markdown": [
       "<span style=\"color:#33cc33\">Correct</span>"
      ],
      "text/plain": [
       "Correct"
      ]
     },
     "metadata": {},
     "output_type": "display_data"
    }
   ],
   "source": [
    "reviews_per_region = reviews.region_1.fillna(\"Unknown\").value_counts().sort_values(ascending=False)\n",
    "\n",
    "\n",
    "# Check your answer\n",
    "q4.check()"
   ]
  },
  {
   "cell_type": "code",
   "execution_count": 9,
   "id": "097dec64",
   "metadata": {
    "execution": {
     "iopub.execute_input": "2022-07-09T12:49:47.869449Z",
     "iopub.status.busy": "2022-07-09T12:49:47.868964Z",
     "iopub.status.idle": "2022-07-09T12:49:47.874355Z",
     "shell.execute_reply": "2022-07-09T12:49:47.873574Z"
    },
    "papermill": {
     "duration": 0.015766,
     "end_time": "2022-07-09T12:49:47.876461",
     "exception": false,
     "start_time": "2022-07-09T12:49:47.860695",
     "status": "completed"
    },
    "tags": []
   },
   "outputs": [],
   "source": [
    "#q4.hint()\n",
    "#q4.solution()"
   ]
  },
  {
   "cell_type": "markdown",
   "id": "c82992ae",
   "metadata": {
    "papermill": {
     "duration": 0.006485,
     "end_time": "2022-07-09T12:49:47.889961",
     "exception": false,
     "start_time": "2022-07-09T12:49:47.883476",
     "status": "completed"
    },
    "tags": []
   },
   "source": [
    "# Keep going\n",
    "\n",
    "Move on to **[renaming and combining](https://www.kaggle.com/residentmario/renaming-and-combining)**."
   ]
  },
  {
   "cell_type": "markdown",
   "id": "0330d5f8",
   "metadata": {
    "papermill": {
     "duration": 0.006305,
     "end_time": "2022-07-09T12:49:47.903075",
     "exception": false,
     "start_time": "2022-07-09T12:49:47.896770",
     "status": "completed"
    },
    "tags": []
   },
   "source": [
    "---\n",
    "\n",
    "\n",
    "\n",
    "\n",
    "*Have questions or comments? Visit the [course discussion forum](https://www.kaggle.com/learn/pandas/discussion) to chat with other learners.*"
   ]
  }
 ],
 "metadata": {
  "kernelspec": {
   "display_name": "Python 3",
   "language": "python",
   "name": "python3"
  },
  "language_info": {
   "codemirror_mode": {
    "name": "ipython",
    "version": 3
   },
   "file_extension": ".py",
   "mimetype": "text/x-python",
   "name": "python",
   "nbconvert_exporter": "python",
   "pygments_lexer": "ipython3",
   "version": "3.7.12"
  },
  "papermill": {
   "default_parameters": {},
   "duration": 15.240681,
   "end_time": "2022-07-09T12:49:48.834358",
   "environment_variables": {},
   "exception": null,
   "input_path": "__notebook__.ipynb",
   "output_path": "__notebook__.ipynb",
   "parameters": {},
   "start_time": "2022-07-09T12:49:33.593677",
   "version": "2.3.4"
  }
 },
 "nbformat": 4,
 "nbformat_minor": 5
}
